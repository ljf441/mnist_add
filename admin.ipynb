{
 "cells": [
  {
   "cell_type": "code",
   "execution_count": 3,
   "metadata": {},
   "outputs": [],
   "source": [
    "import tarfile\n",
    "\n",
    "def create_tar_gz(archive_name, files_to_add):\n",
    "    \"\"\"\n",
    "    Creates a .tar.gz archive with the specified files.\n",
    "    \n",
    "    Parameters:\n",
    "    archive_name (str): The name of the output .tar.gz archive.\n",
    "    files_to_add (list): A list of file paths to include in the archive.\n",
    "    \"\"\"\n",
    "    with tarfile.open(archive_name, \"w:gz\") as tar:\n",
    "        for file in files_to_add:\n",
    "            tar.add(file, arcname=file.split('/')[-1])  # arcname strips the path from the file\n",
    "    print(f\"Created archive: {archive_name}\")\n"
   ]
  },
  {
   "cell_type": "code",
   "execution_count": 17,
   "metadata": {},
   "outputs": [
    {
     "name": "stdout",
     "output_type": "stream",
     "text": [
      "Created archive: neural_network.tar.gz\n"
     ]
    }
   ],
   "source": [
    "files = [\"nn_best_study999_params.pkl\",  \"nn_fitted_model999.keras\"]\n",
    "create_tar_gz(\"neural_network.tar.gz\", files)"
   ]
  },
  {
   "cell_type": "code",
   "execution_count": 19,
   "metadata": {},
   "outputs": [
    {
     "name": "stdout",
     "output_type": "stream",
     "text": [
      "Created archive: svm.tar.gz\n"
     ]
    }
   ],
   "source": [
    "files = [\"svm_fitted_model.pkl\", \"best_svm_model.pkl\"]\n",
    "create_tar_gz(\"svm.tar.gz\", files)"
   ]
  },
  {
   "cell_type": "code",
   "execution_count": 21,
   "metadata": {},
   "outputs": [
    {
     "name": "stdout",
     "output_type": "stream",
     "text": [
      "Created archive: tsne.tar.gz\n"
     ]
    }
   ],
   "source": [
    "files = [\"best_tsne.pkl\"]\n",
    "create_tar_gz(\"tsne.tar.gz\", files)"
   ]
  },
  {
   "cell_type": "code",
   "execution_count": 2,
   "metadata": {},
   "outputs": [
    {
     "name": "stdout",
     "output_type": "stream",
     "text": [
      "Created archive: forest.tar.gz\n"
     ]
    }
   ],
   "source": [
    "files = [\"best_forest_model.pkl\"]\n",
    "create_tar_gz(\"forest.tar.gz\", files)"
   ]
  },
  {
   "cell_type": "code",
   "execution_count": 4,
   "metadata": {},
   "outputs": [
    {
     "name": "stdout",
     "output_type": "stream",
     "text": [
      "Created archive: adaboost.tar.gz\n"
     ]
    }
   ],
   "source": [
    "files = [\"best_adaboost_model.pkl\"]\n",
    "create_tar_gz(\"adaboost.tar.gz\", files)"
   ]
  },
  {
   "cell_type": "code",
   "execution_count": 3,
   "metadata": {},
   "outputs": [
    {
     "name": "stdout",
     "output_type": "stream",
     "text": [
      "Size of 'forest.tar.gz': 0 MB\n"
     ]
    }
   ],
   "source": [
    "import os\n",
    "\n",
    "def check_file_size(file_path):\n",
    "    \"\"\"Returns the size of the file in bytes.\"\"\"\n",
    "    try:\n",
    "        file_size = os.path.getsize(file_path)\n",
    "        return file_size\n",
    "    except FileNotFoundError:\n",
    "        print(f\"File not found: {file_path}\")\n",
    "        return None\n",
    "\n",
    "# Example usage:\n",
    "file_path = \"forest.tar.gz\"  # replace with your file path\n",
    "size = check_file_size(file_path)\n",
    "\n",
    "if size is not None:\n",
    "    print(f\"Size of '{file_path}': {size// (1024 * 1024)} MB\")"
   ]
  },
  {
   "cell_type": "markdown",
   "metadata": {},
   "source": []
  }
 ],
 "metadata": {
  "kernelspec": {
   "display_name": "tf",
   "language": "python",
   "name": "python3"
  },
  "language_info": {
   "codemirror_mode": {
    "name": "ipython",
    "version": 3
   },
   "file_extension": ".py",
   "mimetype": "text/x-python",
   "name": "python",
   "nbconvert_exporter": "python",
   "pygments_lexer": "ipython3",
   "version": "3.9.20"
  }
 },
 "nbformat": 4,
 "nbformat_minor": 2
}
